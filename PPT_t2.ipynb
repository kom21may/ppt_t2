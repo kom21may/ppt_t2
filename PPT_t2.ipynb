{
 "cells": [
  {
   "cell_type": "markdown",
   "id": "b2f8c860",
   "metadata": {},
   "source": [
    "first Unique Character in a String\n",
    "\n",
    "Given a string s, find the first non-repeating character in it and return its index. If it does not exist, return -1.\n",
    "\n",
    "Example 1:\n",
    "Input: s = \"leetcode\"\n",
    "Output: 0\n",
    "\n",
    "Example 2:\n",
    "Input: s = \"loveleetcode\"\n",
    "Output: 2\n",
    "\n",
    "Example 3:\n",
    "Input: s = \"aabb\"\n",
    "Output: -1\n",
    "\n",
    "Constraints:\n",
    "a. 1 <= s.length <= 10^5\n",
    "b. s consists of only lowercase English letters."
   ]
  },
  {
   "cell_type": "code",
   "execution_count": 51,
   "id": "d9acb272",
   "metadata": {},
   "outputs": [],
   "source": [
    "def uniqchar(s):\n",
    "    char_counts = {}\n",
    "\n",
    "    # Count the occurrences of each character\n",
    "    for char in s:\n",
    "        char_counts[char] = char_counts.get(char, 0) + 1\n",
    "\n",
    "    # Find the first non-repeating character\n",
    "    for i, char in enumerate(s):\n",
    "        if char_counts[char] == 1:\n",
    "            return i\n",
    "\n",
    "    return -1"
   ]
  },
  {
   "cell_type": "code",
   "execution_count": 52,
   "id": "e50e2a3a",
   "metadata": {},
   "outputs": [
    {
     "data": {
      "text/plain": [
       "0"
      ]
     },
     "execution_count": 52,
     "metadata": {},
     "output_type": "execute_result"
    }
   ],
   "source": [
    "unichar(\"leetcode\")"
   ]
  },
  {
   "cell_type": "code",
   "execution_count": 53,
   "id": "60b38561",
   "metadata": {},
   "outputs": [
    {
     "data": {
      "text/plain": [
       "2"
      ]
     },
     "execution_count": 53,
     "metadata": {},
     "output_type": "execute_result"
    }
   ],
   "source": [
    "unichar(\"loveleetcode\")"
   ]
  },
  {
   "cell_type": "code",
   "execution_count": 54,
   "id": "410f35fb",
   "metadata": {},
   "outputs": [
    {
     "data": {
      "text/plain": [
       "-1"
      ]
     },
     "execution_count": 54,
     "metadata": {},
     "output_type": "execute_result"
    }
   ],
   "source": [
    "unichar(\"aabb\")"
   ]
  },
  {
   "cell_type": "markdown",
   "id": "17d98bbf",
   "metadata": {},
   "source": [
    "This approach has a time complexity of O(n), where n is the length of the input string s, as we iterate through the string twice. The space complexity is O(k), where k is the number of unique characters in the string, as we store the character counts in the hashmap."
   ]
  },
  {
   "cell_type": "code",
   "execution_count": null,
   "id": "4950b118",
   "metadata": {},
   "outputs": [],
   "source": []
  }
 ],
 "metadata": {
  "kernelspec": {
   "display_name": "Python 3 (ipykernel)",
   "language": "python",
   "name": "python3"
  },
  "language_info": {
   "codemirror_mode": {
    "name": "ipython",
    "version": 3
   },
   "file_extension": ".py",
   "mimetype": "text/x-python",
   "name": "python",
   "nbconvert_exporter": "python",
   "pygments_lexer": "ipython3",
   "version": "3.10.9"
  }
 },
 "nbformat": 4,
 "nbformat_minor": 5
}
